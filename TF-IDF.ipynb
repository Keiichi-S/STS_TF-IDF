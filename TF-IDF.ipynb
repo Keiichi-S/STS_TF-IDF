{
 "cells": [
  {
   "cell_type": "code",
   "execution_count": 2,
   "metadata": {},
   "outputs": [],
   "source": [
    "def file_open(input):\n",
    "    sentences1 = []\n",
    "    sentences2 = []\n",
    "    with open(input, 'r', encoding='utf-8') as fileobj:\n",
    "        while True:\n",
    "            line = fileobj.readline()\n",
    "            if line :\n",
    "                s = line.split('\\t')\n",
    "                s[0] = s[0].replace('.', '').rstrip()\n",
    "                sentences1.append(s[0])\n",
    "                s[1] = s[1].replace('.', '').rstrip()\n",
    "                sentences2.append(s[1])\n",
    "            else:\n",
    "                break\n",
    "    return sentences1, sentences2"
   ]
  },
  {
   "cell_type": "code",
   "execution_count": null,
   "metadata": {},
   "outputs": [],
   "source": [
    "import nltk\n",
    "nltk.download('punkt')\n",
    "from nltk.stem import PorterStemmer, LancasterStemmer, SnowballStemmer, WordNetLemmatizer\n",
    "from nltk.tokenize import word_tokenize\n",
    "\n",
    "def stem(s1, s2):\n",
    "    ps = SnowballStemmer(language=\"english\")\n",
    "    s1_words = []\n",
    "    s2_words = []\n",
    "    r1 = []\n",
    "    r2 = []\n",
    "\n",
    "    for line1, line2 in zip(s1, s2):\n",
    "        s1_words.append(word_tokenize(line1))\n",
    "        s2_words.append(word_tokenize(line2))\n",
    "\n",
    "    for i in range(len(s1)):\n",
    "        for j, word in enumerate(s1_words[i]):\n",
    "            s1_words[i][j] = ps.stem(word.lower())\n",
    "        for j, word in enumerate(s2_words[i]):\n",
    "            s2_words[i][j] = ps.stem(word.lower())\n",
    "    for list in s1_words:\n",
    "        r1.append(' '.join(list))\n",
    "    for list in s2_words:\n",
    "        r2.append(' '.join(list))\n",
    "        \n",
    "    return r1, r2\n"
   ]
  },
  {
   "cell_type": "code",
   "execution_count": 4,
   "metadata": {},
   "outputs": [],
   "source": [
    "from sklearn.feature_extraction.text import TfidfVectorizer\n",
    "\n",
    "s1, s2 = file_open(\"input/STS.input.OnWN.txt\")\n",
    "s1_words, s2_words = stem(s1, s2)\n",
    "inputs = s1_words + s2_words\n",
    "\n",
    "temp1, temp2 = file_open(\"input/STS.input.deft-forum.txt\")\n",
    "temp1_words, temp2_words = stem(temp1, temp2)\n",
    "inputs += temp1_words\n",
    "inputs += temp2_words\n",
    "\n",
    "temp1, temp2 = file_open(\"input/STS.input.deft-news.txt\")\n",
    "temp1_words, temp2_words = stem(temp1, temp2)\n",
    "inputs += temp1_words\n",
    "inputs += temp2_words\n",
    "\n",
    "temp1, temp2 = file_open(\"input/STS.input.headlines.txt\")\n",
    "temp1_words, temp2_words = stem(temp1, temp2)\n",
    "inputs += temp1_words\n",
    "inputs += temp2_words\n",
    "\n",
    "vectorizer = TfidfVectorizer(max_df=0.3)\n",
    "X = vectorizer.fit_transform(inputs)"
   ]
  },
  {
   "cell_type": "code",
   "execution_count": 5,
   "metadata": {},
   "outputs": [],
   "source": [
    "t1, t2 = file_open(\"input/STS.input.images.txt\")\n",
    "test1, test2 = stem(t1, t2)"
   ]
  },
  {
   "cell_type": "code",
   "execution_count": 6,
   "metadata": {},
   "outputs": [],
   "source": [
    "import numpy as np\n",
    "t1_V = vectorizer.transform(test1)\n",
    "t2_V = vectorizer.transform(test2)"
   ]
  },
  {
   "cell_type": "code",
   "execution_count": 7,
   "metadata": {},
   "outputs": [],
   "source": [
    "from sklearn.metrics.pairwise import cosine_similarity\n",
    "scores = []\n",
    "\n",
    "for i in range(750):\n",
    "    scores.append(cosine_similarity(t1_V[i], t2_V[i])*5)"
   ]
  }
 ],
 "metadata": {
  "kernelspec": {
   "display_name": "Python 3",
   "language": "python",
   "name": "python3"
  },
  "language_info": {
   "codemirror_mode": {
    "name": "ipython",
    "version": 3
   },
   "file_extension": ".py",
   "mimetype": "text/x-python",
   "name": "python",
   "nbconvert_exporter": "python",
   "pygments_lexer": "ipython3",
   "version": "3.7.3"
  }
 },
 "nbformat": 4,
 "nbformat_minor": 2
}
